{
 "cells": [
  {
   "cell_type": "code",
   "execution_count": 2,
   "metadata": {
    "collapsed": true
   },
   "outputs": [],
   "source": [
    "import pandas as pd\n",
    "import matplotlib.pyplot as plt\n",
    "import numpy as np\n",
    "import matplotlib.cm as cm\n",
    "from matplotlib.ticker import FuncFormatter\n",
    "cm1a = pd.read_csv('CM1A_means.csv')\n",
    "cm5 = pd.read_csv('CM5_means.csv')\n",
    "m1=list(cm1a['CM1A_Scale_factor'])\n",
    "m2=list(cm5['CM5_Scale_factor'])"
   ]
  },
  {
   "cell_type": "code",
   "execution_count": 4,
   "metadata": {
    "collapsed": false
   },
   "outputs": [
    {
     "data": {
      "text/plain": [
       "0    1.5320\n",
       "1    2.0578\n",
       "2    1.0714\n",
       "3    0.7225\n",
       "4    0.6416\n",
       "5    1.0260\n",
       "6    2.6814\n",
       "7    1.0927\n",
       "8    2.1779\n",
       "Name: 1.21, dtype: float64"
      ]
     },
     "execution_count": 4,
     "metadata": {},
     "output_type": "execute_result"
    }
   ],
   "source": [
    "cm5['1.21']"
   ]
  },
  {
   "cell_type": "code",
   "execution_count": 6,
   "metadata": {
    "collapsed": false
   },
   "outputs": [],
   "source": [
    "l1= (cm1a.columns.values)[1:]\n",
    "l2= (cm5.columns.values)[1:]"
   ]
  },
  {
   "cell_type": "code",
   "execution_count": null,
   "metadata": {
    "collapsed": true
   },
   "outputs": [],
   "source": [
    "################################\n",
    "def millions(x, pos):\n",
    "    'The two args are the value and tick position'\n",
    "    return '%2.2f' % (x)\n",
    "formatter = FuncFormatter(millions)\n",
    "################################\n",
    "colors = cm.Spectral(np.linspace(0, 1, len(m1)))\n",
    "#fig, (ax1, ax2) = plt.subplots(2, sharey=True)\n",
    "fig=plt.figure(figsize=(10, 5),dpi=300)\n",
    "ax1=plt.subplot(121)\n",
    "ax2=plt.subplot(122)\n",
    "index = np.arange(len(m1))\n",
    "bar_width = 1.0/len(l1)\n",
    "opacity = 0.5\n",
    "patterns = [  \"*\", \"o\", \".\"]\n",
    "ax1.legend(fontsize=10,loc=9, bbox_to_anchor=(0.5, 1.2),ncol=3,frameon=False)\n",
    "ax1.bar(index+bar_width,hvap['1.05'] , bar_width,alpha=opacity,color=c)\n",
    "ax1.set_ylabel(r'$\\Delta H_{vap}^{expt}-\\Delta H_{vap}^{calc}~$ (kcal/mol)')\n",
    "ax1.yaxis.set_major_formatter(formatter)\n",
    "ax1.yaxis.set_ticks(np.arange(-6,3,2))\n",
    "ax2.bar(index,den['1.21'] , bar_width,alpha=opacity,color=c)\n",
    "ax2.set_ylabel(r'$\\Delta \\rho^{expt}-\\Delta \\rho^{calc}~$ (g/cc)')\n",
    "ax2.yaxis.set_ticks(np.arange(-0.1,0.08,0.04))\n",
    "plt.xticks(index + bar_width*len(l2)/2, m2, rotation=90,fontsize=10)\n",
    "ax1.xaxis.grid()\n",
    "ax2.xaxis.grid()\n",
    "ax1.yaxis.grid()\n",
    "ax2.yaxis.grid()\n",
    "ax1.set_xlim(-0.1, len(m1) + 0.0)\n",
    "ax2.set_xlim(-0.1, len(m2) + 0.0)\n",
    "plt.tight_layout(rect=[0.0,0.01,0.89,0.99])\n",
    "plt.savefig(\"Multi_bar.pdf\")\n"
   ]
  }
 ],
 "metadata": {
  "kernelspec": {
   "display_name": "Python 2",
   "language": "python",
   "name": "python2"
  },
  "language_info": {
   "codemirror_mode": {
    "name": "ipython",
    "version": 2
   },
   "file_extension": ".py",
   "mimetype": "text/x-python",
   "name": "python",
   "nbconvert_exporter": "python",
   "pygments_lexer": "ipython2",
   "version": "2.7.9"
  }
 },
 "nbformat": 4,
 "nbformat_minor": 0
}
